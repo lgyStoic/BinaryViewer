{
  "cells": [
    {
      "cell_type": "markdown",
      "metadata": {
        "id": "odi2vIMHC3Rm"
      },
      "source": [
        "# Welcome to the [Tensor2Tensor](https://github.com/tensorflow/tensor2tensor) Colab\n",
        "\n",
        "Tensor2Tensor, or T2T for short, is a library of deep learning models and datasets designed to make deep learning more accessible and [accelerate ML research](https://research.googleblog.com/2017/06/accelerating-deep-learning-research.html). T2T is actively used and maintained by researchers and engineers within the [Google Brain team](https://research.google.com/teams/brain/) and a community of users. This colab shows you some datasets we have in T2T, how to download and use them, some models we have, how to download pre-trained models and use them, and how to create and train your own models."
      ]
    },
    {
      "cell_type": "code",
      "execution_count": 2,
      "metadata": {
        "id": "s19ucTii_wYb"
      },
      "outputs": [],
      "source": [
        "#@title\n",
        "# Copyright 2018 Google LLC.\n",
        "\n",
        "# Licensed under the Apache License, Version 2.0 (the \"License\");\n",
        "# you may not use this file except in compliance with the License.\n",
        "# You may obtain a copy of the License at\n",
        "\n",
        "# https://www.apache.org/licenses/LICENSE-2.0\n",
        "\n",
        "# Unless required by applicable law or agreed to in writing, software\n",
        "# distributed under the License is distributed on an \"AS IS\" BASIS,\n",
        "# WITHOUT WARRANTIES OR CONDITIONS OF ANY KIND, either express or implied.\n",
        "# See the License for the specific language governing permissions and\n",
        "# limitations under the License."
      ]
    },
    {
      "cell_type": "code",
      "execution_count": null,
      "metadata": {
        "id": "OPGni6fuvoTj"
      },
      "outputs": [],
      "source": [
        "# Install deps\n",
        "!pip install -q -U tensor2tensor\n",
        "!pip install -q tensorflow matplotlib\n"
      ]
    },
    {
      "cell_type": "code",
      "execution_count": null,
      "metadata": {
        "id": "oILRLCWN_16u"
      },
      "outputs": [],
      "source": [
        "# Imports we need.\n",
        "import sys\n",
        "if 'google.colab' in sys.modules: # Colab-only TensorFlow version selector\n",
        "  %tensorflow_version 1.x\n",
        "import tensorflow as tf\n",
        "import matplotlib.pyplot as plt\n",
        "import numpy as np\n",
        "import os\n",
        "import collections\n",
        "\n",
        "from tensor2tensor import models\n",
        "from tensor2tensor import problems\n",
        "from tensor2tensor.layers import common_layers\n",
        "from tensor2tensor.utils import trainer_lib\n",
        "from tensor2tensor.utils import t2t_model\n",
        "from tensor2tensor.utils import registry\n",
        "from tensor2tensor.utils import metrics\n",
        "\n",
        "# Enable TF Eager execution\n",
        "tfe = tf.contrib.eager\n",
        "tfe.enable_eager_execution()\n",
        "\n",
        "# Other setup\n",
        "Modes = tf.estimator.ModeKeys\n",
        "\n",
        "# Setup some directories\n",
        "data_dir = os.path.expanduser(\"~/t2t/data\")\n",
        "tmp_dir = os.path.expanduser(\"~/t2t/tmp\")\n",
        "train_dir = os.path.expanduser(\"~/t2t/train\")\n",
        "checkpoint_dir = os.path.expanduser(\"~/t2t/checkpoints\")\n",
        "tf.gfile.MakeDirs(data_dir)\n",
        "tf.gfile.MakeDirs(tmp_dir)\n",
        "tf.gfile.MakeDirs(train_dir)\n",
        "tf.gfile.MakeDirs(checkpoint_dir)\n",
        "gs_data_dir = \"gs://tensor2tensor-data\"\n",
        "gs_ckpt_dir = \"gs://tensor2tensor-checkpoints/\""
      ]
    },
    {
      "cell_type": "markdown",
      "metadata": {
        "id": "0a69r1KDiZDe"
      },
      "source": [
        "# Download MNIST and inspect it"
      ]
    },
    {
      "cell_type": "code",
      "execution_count": null,
      "metadata": {
        "colab": {
          "base_uri": "https://localhost:8080/",
          "height": 1241
        },
        "id": "RYDMO4zArgkz",
        "outputId": "f0f13103-a437-4b95-ac9d-38f2b57a5f4c"
      },
      "outputs": [
        {
          "data": {
            "text/plain": [
              "['algorithmic_addition_binary40',\n",
              " 'algorithmic_addition_decimal40',\n",
              " 'algorithmic_cipher_shift200',\n",
              " 'algorithmic_cipher_shift5',\n",
              " 'algorithmic_cipher_vigenere200',\n",
              " 'algorithmic_cipher_vigenere5',\n",
              " 'algorithmic_identity_binary40',\n",
              " 'algorithmic_identity_decimal40',\n",
              " 'algorithmic_multiplication_binary40',\n",
              " 'algorithmic_multiplication_decimal40',\n",
              " 'algorithmic_reverse_binary40',\n",
              " 'algorithmic_reverse_binary40_test',\n",
              " 'algorithmic_reverse_decimal40',\n",
              " 'algorithmic_reverse_nlplike32k',\n",
              " 'algorithmic_reverse_nlplike8k',\n",
              " 'algorithmic_shift_decimal40',\n",
              " 'audio_timit_characters_tune',\n",
              " 'audio_timit_tokens8k_test',\n",
              " 'audio_timit_tokens8k_tune',\n",
              " 'image_celeba',\n",
              " 'image_cifar10',\n",
              " 'image_cifar10_plain',\n",
              " 'image_cifar10_plain8',\n",
              " 'image_cifar10_tune',\n",
              " 'image_fsns',\n",
              " 'image_imagenet',\n",
              " 'image_imagenet224',\n",
              " 'image_imagenet32',\n",
              " 'image_imagenet64',\n",
              " 'image_mnist',\n",
              " 'image_mnist_tune',\n",
              " 'image_ms_coco_characters',\n",
              " 'image_ms_coco_tokens32k',\n",
              " 'image_ms_coco_tokens8k',\n",
              " 'img2img_cifar10',\n",
              " 'img2img_imagenet',\n",
              " 'languagemodel_lm1b32k',\n",
              " 'languagemodel_lm1b8k_packed',\n",
              " 'languagemodel_lm1b_characters',\n",
              " 'languagemodel_ptb10k',\n",
              " 'languagemodel_ptb_characters',\n",
              " 'languagemodel_wiki_full32k',\n",
              " 'languagemodel_wiki_scramble128',\n",
              " 'languagemodel_wiki_scramble1k50',\n",
              " 'languagemodel_wiki_scramble8k50',\n",
              " 'librispeech',\n",
              " 'multinli_matched',\n",
              " 'multinli_mismatched',\n",
              " 'ocr_test',\n",
              " 'parsing_english_ptb16k',\n",
              " 'parsing_english_ptb8k',\n",
              " 'parsing_icelandic16k',\n",
              " 'programming_desc2code_cpp',\n",
              " 'programming_desc2code_py',\n",
              " 'sentiment_imdb',\n",
              " 'summarize_cnn_dailymail32k',\n",
              " 'translate_encs_wmt32k',\n",
              " 'translate_encs_wmt_characters',\n",
              " 'translate_ende_wmt32k',\n",
              " 'translate_ende_wmt32k_packed',\n",
              " 'translate_ende_wmt8k',\n",
              " 'translate_ende_wmt_bpe32k',\n",
              " 'translate_ende_wmt_characters',\n",
              " 'translate_enfr_wmt32k',\n",
              " 'translate_enfr_wmt32k_packed',\n",
              " 'translate_enfr_wmt8k',\n",
              " 'translate_enfr_wmt_characters',\n",
              " 'translate_enfr_wmt_small32k',\n",
              " 'translate_enfr_wmt_small8k',\n",
              " 'translate_enfr_wmt_small_characters',\n",
              " 'translate_enmk_setimes32k',\n",
              " 'translate_enzh_wmt8k']"
            ]
          },
          "execution_count": 4,
          "metadata": {
            "tags": []
          },
          "output_type": "execute_result"
        }
      ],
      "source": [
        "# A Problem is a dataset together with some fixed pre-processing.\n",
        "# It could be a translation dataset with a specific tokenization,\n",
        "# or an image dataset with a specific resolution.\n",
        "#\n",
        "# There are many problems available in Tensor2Tensor\n",
        "problems.available()"
      ]
    },
    {
      "cell_type": "code",
      "execution_count": null,
      "metadata": {
        "colab": {
          "base_uri": "https://localhost:8080/",
          "height": 306
        },
        "id": "JKc2uSk6WX5e",
        "outputId": "7e0cafb5-d035-49a7-9ff4-7f4150c905c7"
      },
      "outputs": [
        {
          "name": "stdout",
          "output_type": "stream",
          "text": [
            "INFO:tensorflow:Downloading http://yann.lecun.com/exdb/mnist/train-images-idx3-ubyte.gz to /content/t2t/tmp/train-images-idx3-ubyte.gz\n",
            "100% completed\n",
            "INFO:tensorflow:Successfully downloaded train-images-idx3-ubyte.gz, 9912422 bytes.\n",
            "INFO:tensorflow:Downloading http://yann.lecun.com/exdb/mnist/train-labels-idx1-ubyte.gz to /content/t2t/tmp/train-labels-idx1-ubyte.gz\n",
            "113% completed\n",
            "INFO:tensorflow:Successfully downloaded train-labels-idx1-ubyte.gz, 28881 bytes.\n",
            "INFO:tensorflow:Downloading http://yann.lecun.com/exdb/mnist/t10k-images-idx3-ubyte.gz to /content/t2t/tmp/t10k-images-idx3-ubyte.gz\n",
            "100% completed\n",
            "INFO:tensorflow:Successfully downloaded t10k-images-idx3-ubyte.gz, 1648877 bytes.\n",
            "INFO:tensorflow:Downloading http://yann.lecun.com/exdb/mnist/t10k-labels-idx1-ubyte.gz to /content/t2t/tmp/t10k-labels-idx1-ubyte.gz\n",
            "180% completed\n",
            "INFO:tensorflow:Successfully downloaded t10k-labels-idx1-ubyte.gz, 4542 bytes.\n",
            "INFO:tensorflow:Not downloading, file already found: /content/t2t/tmp/train-images-idx3-ubyte.gz\n",
            "INFO:tensorflow:Not downloading, file already found: /content/t2t/tmp/train-labels-idx1-ubyte.gz\n",
            "INFO:tensorflow:Not downloading, file already found: /content/t2t/tmp/t10k-images-idx3-ubyte.gz\n",
            "INFO:tensorflow:Not downloading, file already found: /content/t2t/tmp/t10k-labels-idx1-ubyte.gz\n",
            "INFO:tensorflow:Shuffling data...\n"
          ]
        }
      ],
      "source": [
        "# Fetch the MNIST problem\n",
        "mnist_problem = problems.problem(\"image_mnist\")\n",
        "# The generate_data method of a problem will download data and process it into\n",
        "# a standard format ready for training and evaluation.\n",
        "mnist_problem.generate_data(data_dir, tmp_dir)"
      ]
    },
    {
      "cell_type": "code",
      "execution_count": null,
      "metadata": {
        "colab": {
          "base_uri": "https://localhost:8080/",
          "height": 381
        },
        "id": "VW6HCRANFPYV",
        "outputId": "3b33057c-5082-4377-ec83-79f67e5a8e84"
      },
      "outputs": [
        {
          "name": "stdout",
          "output_type": "stream",
          "text": [
            "INFO:tensorflow:Reading data files from /content/t2t/data/image_mnist-train*\n",
            "Label: 7\n"
          ]
        },
        {
          "data": {
            "image/png": "[encoded data removed]",
            "text/plain": [
              "<matplotlib.figure.Figure at 0x7f9a730a8210>"
            ]
          },
          "metadata": {
            "tags": []
          },
          "output_type": "display_data"
        }
      ],
      "source": [
        "# Now let's see the training MNIST data as Tensors.\n",
        "mnist_example = tfe.Iterator(mnist_problem.dataset(Modes.TRAIN, data_dir)).next()\n",
        "image = mnist_example[\"inputs\"]\n",
        "label = mnist_example[\"targets\"]\n",
        "\n",
        "plt.imshow(image.numpy()[:, :, 0].astype(np.float32), cmap=plt.get_cmap('gray'))\n",
        "print(\"Label: %d\" % label.numpy())"
      ]
    },
    {
      "cell_type": "markdown",
      "metadata": {
        "id": "gXL7_bVH49Kl"
      },
      "source": [
        "# Translate from English to German with a pre-trained model"
      ]
    },
    {
      "cell_type": "code",
      "execution_count": null,
      "metadata": {
        "colab": {
          "base_uri": "https://localhost:8080/",
          "height": 170
        },
        "id": "EB4MP7_y_SuQ",
        "outputId": "8fbdcd05-a8b6-45e5-88b2-ce6fdfec0351"
      },
      "outputs": [
        {
          "name": "stdout",
          "output_type": "stream",
          "text": [
            "\r\n",
            "\r\n",
            "Updates are available for some Cloud SDK components.  To install them,\r\n",
            "please run:\r\n",
            "  $ gcloud components update\r\n",
            "\n",
            "Copying gs://tensor2tensor-data/vocab.translate_ende_wmt32k.32768.subwords...\n",
            "/ [1 files][316.4 KiB/316.4 KiB]                                                \n",
            "Operation completed over 1 objects/316.4 KiB.                                    \n"
          ]
        }
      ],
      "source": [
        "# Fetch the problem\n",
        "ende_problem = problems.problem(\"translate_ende_wmt32k\")\n",
        "\n",
        "# Copy the vocab file locally so we can encode inputs and decode model outputs\n",
        "# All vocabs are stored on GCS\n",
        "vocab_name = \"vocab.translate_ende_wmt32k.32768.subwords\"\n",
        "vocab_file = os.path.join(gs_data_dir, vocab_name)\n",
        "!gsutil cp {vocab_file} {data_dir}\n",
        "\n",
        "# Get the encoders from the problem\n",
        "encoders = ende_problem.feature_encoders(data_dir)\n",
        "\n",
        "# Setup helper functions for encoding and decoding\n",
        "def encode(input_str, output_str=None):\n",
        "  \"\"\"Input str to features dict, ready for inference\"\"\"\n",
        "  inputs = encoders[\"inputs\"].encode(input_str) + [1]  # add EOS id\n",
        "  batch_inputs = tf.reshape(inputs, [1, -1, 1])  # Make it 3D.\n",
        "  return {\"inputs\": batch_inputs}\n",
        "\n",
        "def decode(integers):\n",
        "  \"\"\"List of ints to str\"\"\"\n",
        "  integers = list(np.squeeze(integers))\n",
        "  if 1 in integers:\n",
        "    integers = integers[:integers.index(1)]\n",
        "  return encoders[\"inputs\"].decode(np.squeeze(integers))"
      ]
    },
    {
      "cell_type": "code",
      "execution_count": null,
      "metadata": {
        "id": "g2aQW7Z6TOEu"
      },
      "outputs": [],
      "source": [
        "# # Generate and view the data\n",
        "# # This cell is commented out because WMT data generation can take hours\n",
        "\n",
        "# ende_problem.generate_data(data_dir, tmp_dir)\n",
        "# example = tfe.Iterator(ende_problem.dataset(Modes.TRAIN, data_dir)).next()\n",
        "# inputs = [int(x) for x in example[\"inputs\"].numpy()] # Cast to ints.\n",
        "# targets = [int(x) for x in example[\"targets\"].numpy()] # Cast to ints.\n",
        "\n",
        "\n",
        "\n",
        "# # Example inputs as int-tensor.\n",
        "# print(\"Inputs, encoded:\")\n",
        "# print(inputs)\n",
        "# print(\"Inputs, decoded:\")\n",
        "# # Example inputs as a sentence.\n",
        "# print(decode(inputs))\n",
        "# # Example targets as int-tensor.\n",
        "# print(\"Targets, encoded:\")\n",
        "# print(targets)\n",
        "# # Example targets as a sentence.\n",
        "# print(\"Targets, decoded:\")\n",
        "# print(decode(targets))"
      ]
    },
    {
      "cell_type": "code",
      "execution_count": null,
      "metadata": {
        "colab": {
          "base_uri": "https://localhost:8080/",
          "height": 408
        },
        "id": "WkFUEs7ZOA79",
        "outputId": "f8be52a4-e85c-4daf-9f77-24d75eea3ab0"
      },
      "outputs": [
        {
          "data": {
            "text/plain": [
              "['resnet50',\n",
              " 'lstm_seq2seq',\n",
              " 'transformer_encoder',\n",
              " 'attention_lm',\n",
              " 'vanilla_gan',\n",
              " 'transformer',\n",
              " 'gene_expression_conv',\n",
              " 'transformer_moe',\n",
              " 'attention_lm_moe',\n",
              " 'transformer_revnet',\n",
              " 'lstm_seq2seq_attention',\n",
              " 'shake_shake',\n",
              " 'transformer_ae',\n",
              " 'diagonal_neural_gpu',\n",
              " 'xception',\n",
              " 'aligned',\n",
              " 'multi_model',\n",
              " 'neural_gpu',\n",
              " 'slice_net',\n",
              " 'byte_net',\n",
              " 'cycle_gan',\n",
              " 'transformer_sketch',\n",
              " 'blue_net']"
            ]
          },
          "execution_count": 9,
          "metadata": {
            "tags": []
          },
          "output_type": "execute_result"
        }
      ],
      "source": [
        "# There are many models available in Tensor2Tensor\n",
        "registry.list_models()"
      ]
    },
    {
      "cell_type": "code",
      "execution_count": null,
      "metadata": {
        "id": "9l6hDQbrRUYV"
      },
      "outputs": [],
      "source": [
        "# Create hparams and the model\n",
        "model_name = \"transformer\"\n",
        "hparams_set = \"transformer_base\"\n",
        "\n",
        "hparams = trainer_lib.create_hparams(hparams_set, data_dir=data_dir, problem_name=\"translate_ende_wmt32k\")\n",
        "\n",
        "# NOTE: Only create the model once when restoring from a checkpoint; it's a\n",
        "# Layer and so subsequent instantiations will have different variable scopes\n",
        "# that will not match the checkpoint.\n",
        "translate_model = registry.model(model_name)(hparams, Modes.EVAL)"
      ]
    },
    {
      "cell_type": "code",
      "execution_count": null,
      "metadata": {
        "colab": {
          "base_uri": "https://localhost:8080/",
          "height": 34
        },
        "id": "FEwNUVlMYOJi",
        "outputId": "86747a09-e83d-4a5f-d938-2fef25e4ce2f"
      },
      "outputs": [
        {
          "data": {
            "text/plain": [
              "u'/content/t2t/checkpoints/transformer_ende_test/model.ckpt-350855'"
            ]
          },
          "execution_count": 11,
          "metadata": {
            "tags": []
          },
          "output_type": "execute_result"
        }
      ],
      "source": [
        "# Copy the pretrained checkpoint locally\n",
        "ckpt_name = \"transformer_ende_test\"\n",
        "gs_ckpt = os.path.join(gs_ckpt_dir, ckpt_name)\n",
        "!gsutil -q cp -R {gs_ckpt} {checkpoint_dir}\n",
        "ckpt_path = tf.train.latest_checkpoint(os.path.join(checkpoint_dir, ckpt_name))\n",
        "ckpt_path"
      ]
    },
    {
      "cell_type": "code",
      "execution_count": null,
      "metadata": {
        "colab": {
          "base_uri": "https://localhost:8080/",
          "height": 68
        },
        "id": "3O-8E9d6TtuJ",
        "outputId": "cee729b7-8237-45bb-ac6f-dfadce9916b4"
      },
      "outputs": [
        {
          "name": "stdout",
          "output_type": "stream",
          "text": [
            "INFO:tensorflow:Greedy Decoding\n",
            "Inputs: The animal didn't cross the street because it was too tired\n",
            "Outputs: Das Tier überquerte die Straße nicht, weil es zu müde war, weil es zu müde war.\n"
          ]
        }
      ],
      "source": [
        "# Restore and translate!\n",
        "def translate(inputs):\n",
        "  encoded_inputs = encode(inputs)\n",
        "  with tfe.restore_variables_on_create(ckpt_path):\n",
        "    model_output = translate_model.infer(encoded_inputs)[\"outputs\"]\n",
        "  return decode(model_output)\n",
        "\n",
        "inputs = \"The animal didn't cross the street because it was too tired\"\n",
        "outputs = translate(inputs)\n",
        "\n",
        "print(\"Inputs: %s\" % inputs)\n",
        "print(\"Outputs: %s\" % outputs)"
      ]
    },
    {
      "cell_type": "markdown",
      "metadata": {
        "id": "X3mkIEcbfiTP"
      },
      "source": [
        "## Attention Viz Utils"
      ]
    },
    {
      "cell_type": "code",
      "execution_count": null,
      "metadata": {
        "id": "r6GPPFy1fL2N"
      },
      "outputs": [],
      "source": [
        "from tensor2tensor.visualization import attention\n",
        "from tensor2tensor.data_generators import text_encoder\n",
        "\n",
        "SIZE = 35\n",
        "\n",
        "def encode_eval(input_str, output_str):\n",
        "  inputs = tf.reshape(encoders[\"inputs\"].encode(input_str) + [1], [1, -1, 1, 1])  # Make it 3D.\n",
        "  outputs = tf.reshape(encoders[\"inputs\"].encode(output_str) + [1], [1, -1, 1, 1])  # Make it 3D.\n",
        "  return {\"inputs\": inputs, \"targets\": outputs}\n",
        "\n",
        "def get_att_mats():\n",
        "  enc_atts = []\n",
        "  dec_atts = []\n",
        "  encdec_atts = []\n",
        "\n",
        "  for i in range(hparams.num_hidden_layers):\n",
        "    enc_att = translate_model.attention_weights[\n",
        "      \"transformer/body/encoder/layer_%i/self_attention/multihead_attention/dot_product_attention\" % i][0]\n",
        "    dec_att = translate_model.attention_weights[\n",
        "      \"transformer/body/decoder/layer_%i/self_attention/multihead_attention/dot_product_attention\" % i][0]\n",
        "    encdec_att = translate_model.attention_weights[\n",
        "      \"transformer/body/decoder/layer_%i/encdec_attention/multihead_attention/dot_product_attention\" % i][0]\n",
        "    enc_atts.append(resize(enc_att))\n",
        "    dec_atts.append(resize(dec_att))\n",
        "    encdec_atts.append(resize(encdec_att))\n",
        "  return enc_atts, dec_atts, encdec_atts\n",
        "\n",
        "def resize(np_mat):\n",
        "  # Sum across heads\n",
        "  np_mat = np_mat[:, :SIZE, :SIZE]\n",
        "  row_sums = np.sum(np_mat, axis=0)\n",
        "  # Normalize\n",
        "  layer_mat = np_mat / row_sums[np.newaxis, :]\n",
        "  lsh = layer_mat.shape\n",
        "  # Add extra dim for viz code to work.\n",
        "  layer_mat = np.reshape(layer_mat, (1, lsh[0], lsh[1], lsh[2]))\n",
        "  return layer_mat\n",
        "\n",
        "def to_tokens(ids):\n",
        "  ids = np.squeeze(ids)\n",
        "  subtokenizer = hparams.problem_hparams.vocabulary['targets']\n",
        "  tokens = []\n",
        "  for _id in ids:\n",
        "    if _id == 0:\n",
        "      tokens.append('<PAD>')\n",
        "    elif _id == 1:\n",
        "      tokens.append('<EOS>')\n",
        "    elif _id == -1:\n",
        "      tokens.append('<NULL>')\n",
        "    else:\n",
        "        tokens.append(subtokenizer._subtoken_id_to_subtoken_string(_id))\n",
        "  return tokens"
      ]
    },
    {
      "cell_type": "code",
      "execution_count": null,
      "metadata": {
        "id": "wfF8_cW-OXPN"
      },
      "outputs": [],
      "source": [
        "def call_html():\n",
        "  import IPython\n",
        "  display(IPython.core.display.HTML('''\n",
        "        <script src=\"/static/components/requirejs/require.js\"></script>\n",
        "        <script>\n",
        "          requirejs.config({\n",
        "            paths: {\n",
        "              base: '/static/base',\n",
        "              \"d3\": \"https://cdnjs.cloudflare.com/ajax/libs/d3/3.5.8/d3.min\",\n",
        "              jquery: '//ajax.googleapis.com/ajax/libs/jquery/2.0.0/jquery.min',\n",
        "            },\n",
        "          });\n",
        "        </script>\n",
        "        '''))"
      ]
    },
    {
      "cell_type": "markdown",
      "metadata": {
        "id": "T7UJzFf6fmhp"
      },
      "source": [
        "## Display Attention"
      ]
    },
    {
      "cell_type": "code",
      "execution_count": 1,
      "metadata": {
        "colab": {
          "base_uri": "https://localhost:8080/",
          "height": 221
        },
        "id": "OJKU36QAfqOC",
        "outputId": "bfabf10b-f7fa-476e-9f26-fac62d75fc4f"
      },
      "outputs": [
        {
          "output_type": "error",
          "ename": "NameError",
          "evalue": "name 'to_tokens' is not defined",
          "traceback": [
            "\u001b[0;31m---------------------------------------------------------------------------\u001b[0m",
            "\u001b[0;31mNameError\u001b[0m                                 Traceback (most recent call last)",
            "\u001b[0;32m<ipython-input-1-a40586350747>\u001b[0m in \u001b[0;36m<cell line: 0>\u001b[0;34m()\u001b[0m\n\u001b[1;32m      1\u001b[0m \u001b[0;31m# Convert inputs and outputs to subwords\u001b[0m\u001b[0;34m\u001b[0m\u001b[0;34m\u001b[0m\u001b[0m\n\u001b[0;32m----> 2\u001b[0;31m \u001b[0minp_text\u001b[0m \u001b[0;34m=\u001b[0m \u001b[0mto_tokens\u001b[0m\u001b[0;34m(\u001b[0m\u001b[0mencoders\u001b[0m\u001b[0;34m[\u001b[0m\u001b[0;34m\"inputs\"\u001b[0m\u001b[0;34m]\u001b[0m\u001b[0;34m.\u001b[0m\u001b[0mencode\u001b[0m\u001b[0;34m(\u001b[0m\u001b[0minputs\u001b[0m\u001b[0;34m)\u001b[0m\u001b[0;34m)\u001b[0m\u001b[0;34m\u001b[0m\u001b[0;34m\u001b[0m\u001b[0m\n\u001b[0m\u001b[1;32m      3\u001b[0m \u001b[0mout_text\u001b[0m \u001b[0;34m=\u001b[0m \u001b[0mto_tokens\u001b[0m\u001b[0;34m(\u001b[0m\u001b[0mencoders\u001b[0m\u001b[0;34m[\u001b[0m\u001b[0;34m\"inputs\"\u001b[0m\u001b[0;34m]\u001b[0m\u001b[0;34m.\u001b[0m\u001b[0mencode\u001b[0m\u001b[0;34m(\u001b[0m\u001b[0moutputs\u001b[0m\u001b[0;34m)\u001b[0m\u001b[0;34m)\u001b[0m\u001b[0;34m\u001b[0m\u001b[0;34m\u001b[0m\u001b[0m\n\u001b[1;32m      4\u001b[0m \u001b[0;34m\u001b[0m\u001b[0m\n\u001b[1;32m      5\u001b[0m \u001b[0;31m# Run eval to collect attention weights\u001b[0m\u001b[0;34m\u001b[0m\u001b[0;34m\u001b[0m\u001b[0m\n",
            "\u001b[0;31mNameError\u001b[0m: name 'to_tokens' is not defined"
          ]
        }
      ],
      "source": [
        "# Convert inputs and outputs to subwords\n",
        "inp_text = to_tokens(encoders[\"inputs\"].encode(inputs))\n",
        "out_text = to_tokens(encoders[\"inputs\"].encode(outputs))\n",
        "\n",
        "# Run eval to collect attention weights\n",
        "example = encode_eval(inputs, outputs)\n",
        "with tfe.restore_variables_on_create(tf.train.latest_checkpoint(checkpoint_dir)):\n",
        "  translate_model.set_mode(Modes.EVAL)\n",
        "  translate_model(example)\n",
        "# Get normalized attention weights for each layer\n",
        "enc_atts, dec_atts, encdec_atts = get_att_mats()\n",
        "\n",
        "call_html()\n",
        "attention.show(inp_text, out_text, enc_atts, dec_atts, encdec_atts)"
      ]
    },
    {
      "cell_type": "markdown",
      "metadata": {
        "id": "i7BZuO7T5BB4"
      },
      "source": [
        "# Train a custom model on MNIST"
      ]
    },
    {
      "cell_type": "code",
      "execution_count": null,
      "metadata": {
        "id": "-H25oG91YQj3"
      },
      "outputs": [],
      "source": [
        "# Create your own model\n",
        "\n",
        "class MySimpleModel(t2t_model.T2TModel):\n",
        "\n",
        "  def body(self, features):\n",
        "    inputs = features[\"inputs\"]\n",
        "    filters = self.hparams.hidden_size\n",
        "    h1 = tf.layers.conv2d(inputs, filters,\n",
        "                          kernel_size=(5, 5), strides=(2, 2))\n",
        "    h2 = tf.layers.conv2d(tf.nn.relu(h1), filters,\n",
        "                          kernel_size=(5, 5), strides=(2, 2))\n",
        "    return tf.layers.conv2d(tf.nn.relu(h2), filters,\n",
        "                            kernel_size=(3, 3))\n",
        "\n",
        "hparams = trainer_lib.create_hparams(\"basic_1\", data_dir=data_dir, problem_name=\"image_mnist\")\n",
        "hparams.hidden_size = 64\n",
        "model = MySimpleModel(hparams, Modes.TRAIN)"
      ]
    },
    {
      "cell_type": "code",
      "execution_count": null,
      "metadata": {
        "colab": {
          "base_uri": "https://localhost:8080/",
          "height": 34
        },
        "id": "7GEmpYQ2ZMnB",
        "outputId": "a574a1a3-ce56-4715-9ad3-8289c61ade3b"
      },
      "outputs": [
        {
          "name": "stdout",
          "output_type": "stream",
          "text": [
            "INFO:tensorflow:Reading data files from /content/t2t/data/image_mnist-train*\n"
          ]
        }
      ],
      "source": [
        "# Prepare for the training loop\n",
        "\n",
        "# In Eager mode, opt.minimize must be passed a loss function wrapped with\n",
        "# implicit_value_and_gradients\n",
        "@tfe.implicit_value_and_gradients\n",
        "def loss_fn(features):\n",
        "  _, losses = model(features)\n",
        "  return losses[\"training\"]\n",
        "\n",
        "# Setup the training data\n",
        "BATCH_SIZE = 128\n",
        "mnist_train_dataset = mnist_problem.dataset(Modes.TRAIN, data_dir)\n",
        "mnist_train_dataset = mnist_train_dataset.repeat(None).batch(BATCH_SIZE)\n",
        "\n",
        "optimizer = tf.train.AdamOptimizer()"
      ]
    },
    {
      "cell_type": "code",
      "execution_count": null,
      "metadata": {
        "colab": {
          "base_uri": "https://localhost:8080/",
          "height": 204
        },
        "id": "AWVd2I7PYz6H",
        "outputId": "504a7876-8bbb-4e5f-f303-f951c2e071b2"
      },
      "outputs": [
        {
          "name": "stdout",
          "output_type": "stream",
          "text": [
            "Step: 0, Loss: 0.513\n",
            "Step: 50, Loss: 0.342\n",
            "Step: 100, Loss: 0.315\n",
            "Step: 150, Loss: 0.372\n",
            "Step: 200, Loss: 0.324\n",
            "Step: 250, Loss: 0.271\n",
            "Step: 300, Loss: 0.281\n",
            "Step: 350, Loss: 0.285\n",
            "Step: 400, Loss: 0.250\n",
            "Step: 450, Loss: 0.247\n",
            "Step: 500, Loss: 0.338\n"
          ]
        }
      ],
      "source": [
        "# Train\n",
        "NUM_STEPS = 500\n",
        "\n",
        "for count, example in enumerate(tfe.Iterator(mnist_train_dataset)):\n",
        "  example[\"targets\"] = tf.reshape(example[\"targets\"], [BATCH_SIZE, 1, 1, 1])  # Make it 4D.\n",
        "  loss, gv = loss_fn(example)\n",
        "  optimizer.apply_gradients(gv)\n",
        "\n",
        "  if count % 50 == 0:\n",
        "    print(\"Step: %d, Loss: %.3f\" % (count, loss.numpy()))\n",
        "  if count >= NUM_STEPS:\n",
        "    break"
      ]
    },
    {
      "cell_type": "code",
      "execution_count": null,
      "metadata": {
        "colab": {
          "base_uri": "https://localhost:8080/",
          "height": 68
        },
        "id": "CIFlkiVOd8jO",
        "outputId": "ef33057a-1a22-4ab8-ab7b-3c90d9f6a850"
      },
      "outputs": [
        {
          "name": "stdout",
          "output_type": "stream",
          "text": [
            "INFO:tensorflow:Reading data files from /content/t2t/data/image_mnist-dev*\n",
            "accuracy_top5: 1.00\n",
            "accuracy: 0.99\n"
          ]
        }
      ],
      "source": [
        "model.set_mode(Modes.EVAL)\n",
        "mnist_eval_dataset = mnist_problem.dataset(Modes.EVAL, data_dir)\n",
        "\n",
        "# Create eval metric accumulators for accuracy (ACC) and accuracy in\n",
        "# top 5 (ACC_TOP5)\n",
        "metrics_accum, metrics_result = metrics.create_eager_metrics(\n",
        "    [metrics.Metrics.ACC, metrics.Metrics.ACC_TOP5])\n",
        "\n",
        "for count, example in enumerate(tfe.Iterator(mnist_eval_dataset)):\n",
        "  if count >= 200:\n",
        "    break\n",
        "\n",
        "  # Make the inputs and targets 4D\n",
        "  example[\"inputs\"] = tf.reshape(example[\"inputs\"], [1, 28, 28, 1])\n",
        "  example[\"targets\"] = tf.reshape(example[\"targets\"], [1, 1, 1, 1])\n",
        "\n",
        "  # Call the model\n",
        "  predictions, _ = model(example)\n",
        "\n",
        "  # Compute and accumulate metrics\n",
        "  metrics_accum(predictions, example[\"targets\"])\n",
        "\n",
        "# Print out the averaged metric values on the eval data\n",
        "for name, val in metrics_result().items():\n",
        "  print(\"%s: %.2f\" % (name, val))"
      ]
    }
  ],
  "metadata": {
    "colab": {
      "name": "Tensor2Tensor Intro",
      "provenance": []
    },
    "kernelspec": {
      "display_name": "Python 3",
      "name": "python3"
    }
  },
  "nbformat": 4,
  "nbformat_minor": 0
}